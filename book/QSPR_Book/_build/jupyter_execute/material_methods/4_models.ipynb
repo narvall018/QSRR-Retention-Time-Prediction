{
 "cells": [
  {
   "cell_type": "markdown",
   "metadata": {},
   "source": [
    "# Model development and evaluation\n",
    "\n",
    "\n",
    "## Model selection\n",
    "Nine regression algorithms were evaluated: Ridge, Lasso, Random Forest, Gradient Boosting, Extra Trees, XGBoost, SVR, and k-Nearest Neighbors. The dataset was split into training (80%) and test (20%) sets. Model performance was assessed using 5-fold cross-validation on the training set and final evaluation on the test set."
   ]
  },
  {
   "cell_type": "markdown",
   "metadata": {},
   "source": [
    "## Hyperparameter optimization\n",
    "The Ridge regression algorithm, which exhibited consistent performance across descriptor sets, underwent hyperparameter optimization. A randomized search strategy explored 50 combinations of parameters:\n",
    "\n",
    "- Alpha values: logarithmic range from 10^-3 to 10^3\n",
    "- Solver options: auto, svd, cholesky, lsqr, sparse_cg, sag, saga\n",
    "- Fit intercept: True/False\n",
    "\n",
    "The optimization process used 5-fold cross-validation with R² scoring {cite}bergstra2012random.\n",
    "\n",
    "## Model evaluation\n",
    "Each combination of descriptor set and feature selection method was evaluated with all regression algorithms. For each model, the following metrics were computed:\n",
    "\n",
    "- Cross-validation R² score (mean and standard deviation)\n",
    "- Test set R² score\n",
    "- Number of features used"
   ]
  }
 ],
 "metadata": {
  "kernelspec": {
   "display_name": "Python 3 (ipykernel)",
   "language": "python",
   "name": "python3"
  },
  "language_info": {
   "codemirror_mode": {
    "name": "ipython",
    "version": 3
   },
   "file_extension": ".py",
   "mimetype": "text/x-python",
   "name": "python",
   "nbconvert_exporter": "python",
   "pygments_lexer": "ipython3",
   "version": "3.10.8"
  },
  "toc": {
   "base_numbering": 1,
   "nav_menu": {},
   "number_sections": true,
   "sideBar": true,
   "skip_h1_title": false,
   "title_cell": "Table of Contents",
   "title_sidebar": "Contents",
   "toc_cell": false,
   "toc_position": {},
   "toc_section_display": true,
   "toc_window_display": false
  }
 },
 "nbformat": 4,
 "nbformat_minor": 2
}