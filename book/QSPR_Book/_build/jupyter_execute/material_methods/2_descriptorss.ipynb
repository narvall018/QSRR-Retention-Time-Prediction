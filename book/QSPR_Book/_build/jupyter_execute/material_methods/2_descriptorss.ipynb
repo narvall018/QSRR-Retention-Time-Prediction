{
 "cells": [
  {
   "cell_type": "markdown",
   "id": "f7484932",
   "metadata": {},
   "source": [
    "# Molecular descriptors computation"
   ]
  },
  {
   "cell_type": "markdown",
   "id": "11b00266",
   "metadata": {},
   "source": [
    "## Molecular descriptors computation\n",
    "\n",
    "The descriptor calculation process starts with SMILES canonicalization to ensure consistent molecular representation. The RDKit package computes 2D descriptors, ECFP6 fingerprints, and MACCS keys {cite}`landrum2016rdkit`. The 2D descriptors quantify topological and physicochemical properties, while ECFP6 fingerprints encode circular substructural patterns within a radius of 6 bonds {cite}`rogers2010extended`. MACCS keys represent the presence or absence of 166 predefined structural patterns {cite}`durant2002reoptimization`. Mordred calculates both 2D descriptors from molecular topology and 3D descriptors from molecular geometries {cite}`moriwaki2018mordred`. The 2D descriptors include connectivity indices and surface areas, while 3D descriptors capture spatial properties. The Molecular Quantum Numbers (MQN) characterize molecules through atom counts, bond types, and topological features. Each calculation method produces a numerical matrix where rows represent molecules and columns correspond to specific molecular features.\n"
   ]
  },
  {
   "cell_type": "markdown",
   "id": "8f10b500",
   "metadata": {},
   "source": [
    "## Data processing and descriptor analysis\n",
    "\n",
    "Six descriptor types were calculated to represent molecular structures. The initial computation generated varying numbers of descriptors: MQN (42), MACCS keys (167), RDKit 2D (208), ECFP6 fingerprints (1024), Mordred 2D/3D (1726), and a combined set (3167).\n",
    "\n",
    "![initial](../figures/number_of_descriptors_by_type_plot.png)\n"
   ]
  },
  {
   "cell_type": "markdown",
   "id": "ca8b9493",
   "metadata": {},
   "source": [
    "The preprocessing workflow includes three main steps. First, descriptors with variance below 0.01 were removed, eliminating constant and near-constant features. Second, Pearson correlation analysis identified highly correlated descriptor pairs (R > 0.95), removing redundant information from the datasets. Third, each descriptor was normalized using standardization.\n",
    "\n",
    "![Preprocessing](../figures/preprocessing_steps.png)\n"
   ]
  },
  {
   "cell_type": "markdown",
   "id": "8ca19cdf",
   "metadata": {},
   "source": [
    "The preprocessing reduced the feature space while preserving molecular information. After preprocessing steps, constant and near-constant features removal reduced the dimensions to 37 (MQN), 146 (MACCS), 171 (RDKit 2D), 903 (ECFP6), 1387 (Mordred 2D/3D), and 2644 (Combined) descriptors. The correlation analysis further reduced the dimensions to their final values: 33 (MQN), 128 (MACCS), 139 (RDKit 2D), 893 (ECFP6), 731 (Mordred 2D/3D), and 1833 (Combined) descriptors. "
   ]
  }
 ],
 "metadata": {
  "kernelspec": {
   "display_name": "my-rdkit-env",
   "language": "python",
   "name": "python3"
  },
  "language_info": {
   "codemirror_mode": {
    "name": "ipython",
    "version": 3
   },
   "file_extension": ".py",
   "mimetype": "text/x-python",
   "name": "python",
   "nbconvert_exporter": "python",
   "pygments_lexer": "ipython3",
   "version": "3.10.8"
  },
  "toc": {
   "base_numbering": 1,
   "nav_menu": {},
   "number_sections": true,
   "sideBar": true,
   "skip_h1_title": false,
   "title_cell": "Table of Contents",
   "title_sidebar": "Contents",
   "toc_cell": false,
   "toc_position": {},
   "toc_section_display": true,
   "toc_window_display": false
  }
 },
 "nbformat": 4,
 "nbformat_minor": 5
}