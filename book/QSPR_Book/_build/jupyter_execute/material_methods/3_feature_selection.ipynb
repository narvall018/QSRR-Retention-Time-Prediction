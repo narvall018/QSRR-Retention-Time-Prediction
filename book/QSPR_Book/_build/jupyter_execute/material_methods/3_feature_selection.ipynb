{
 "cells": [
  {
   "cell_type": "markdown",
   "metadata": {},
   "source": [
    "# Feature selection"
   ]
  },
  {
   "cell_type": "markdown",
   "metadata": {},
   "source": [
    "Feature selection methods reduce data dimensionality to address overfitting and computational constraints in machine learning models {cite}`guyon2003introduction`. The high number of molecular descriptors can lead to the curse of dimensionality, where the model performance decreases as the number of features increases {cite}`trunk1979problem`. Two approaches were applied to select relevant features. The unsupervised method, Principal Component Analysis (PCA), transforms the original descriptors into uncorrelated components. The supervised methods—LASSO, Random Forest importance, and Boruta—select features based on their correlation with retention times {cite}`tibshirani1996regression`, {cite}`kursa2010feature`.\n"
   ]
  },
  {
   "cell_type": "markdown",
   "metadata": {},
   "source": []
  },
  {
   "cell_type": "markdown",
   "metadata": {},
   "source": [
    "## Unsupervised feature selection\n",
    "\n",
    "\n",
    "The molecular descriptors contain redundant and correlated information. Principal Component Analysis (PCA) transforms these original descriptors into a new set of uncorrelated variables. This transformation provides two advantages for QSRR modeling: it removes correlations between descriptors and reduces the data dimensionality while preserving molecular information.\n",
    "For each descriptor type (RDKit 2D, ECFP6, MACCS, MQN, and Mordred 2D/3D), the analysis includes two visualizations. The cumulative variance plots reveal how many transformed variables capture 95% of the original molecular information. The descriptor contribution plots identify which molecular features account for the main variations in the chemical space of our training set.\n",
    "\n",
    "![PCA RDKit2D](../figures/pca_results/RDKit_2D_pca_plot.png)\n",
    "*Figure 1: PCA analysis of RDKit 2D descriptors*\n",
    "\n",
    "![PCA ECFP](../figures/pca_results/ECFP_pca_plot.png)\n",
    "*Figure 2: PCA analysis of ECFP descriptors*\n",
    "\n",
    "![PCA MACCS](../figures/pca_results/MACCS_pca_plot.png)\n",
    "*Figure 3: PCA analysis of MACCS descriptors*\n",
    "\n",
    "![PCA MQN](../figures/pca_results/MQN_pca_plot.png)\n",
    "*Figure 4: PCA analysis of MQN descriptors*\n",
    "\n",
    "![PCA Mordred2D3D](../figures/pca_results/Mordred_2D_3D_pca_plot.png)\n",
    "*Figure 5: PCA analysis of Mordred 2D/3D descriptors*\n",
    "\n",
    "![PCA Mordred2D3D](../figures/pca_results/Combined_pca_plot.png)\n",
    "*Figure 6: PCA analysis of combined descriptors*\n",
    "\n",
    "\n",
    "\n",
    "\n",
    "The number of components required to explain 95% of variance for each descriptor type:\n",
    "\n"
   ]
  },
  {
   "cell_type": "code",
   "execution_count": 1,
   "metadata": {
    "tags": [
     "remove-input"
    ]
   },
   "outputs": [
    {
     "data": {
      "text/html": [
       "<div>\n",
       "<style scoped>\n",
       "    .dataframe tbody tr th:only-of-type {\n",
       "        vertical-align: middle;\n",
       "    }\n",
       "\n",
       "    .dataframe tbody tr th {\n",
       "        vertical-align: top;\n",
       "    }\n",
       "\n",
       "    .dataframe thead th {\n",
       "        text-align: right;\n",
       "    }\n",
       "</style>\n",
       "<table border=\"1\" class=\"dataframe\">\n",
       "  <thead>\n",
       "    <tr style=\"text-align: right;\">\n",
       "      <th></th>\n",
       "      <th>n_components</th>\n",
       "      <th>first_pc_variance</th>\n",
       "    </tr>\n",
       "  </thead>\n",
       "  <tbody>\n",
       "    <tr>\n",
       "      <th>RDKit 2D</th>\n",
       "      <td>45.0</td>\n",
       "      <td>0.218625</td>\n",
       "    </tr>\n",
       "    <tr>\n",
       "      <th>ECFP</th>\n",
       "      <td>125.0</td>\n",
       "      <td>0.042531</td>\n",
       "    </tr>\n",
       "    <tr>\n",
       "      <th>MACCS</th>\n",
       "      <td>53.0</td>\n",
       "      <td>0.115012</td>\n",
       "    </tr>\n",
       "    <tr>\n",
       "      <th>MQN</th>\n",
       "      <td>18.0</td>\n",
       "      <td>0.263674</td>\n",
       "    </tr>\n",
       "    <tr>\n",
       "      <th>Mordred 2D/3D</th>\n",
       "      <td>68.0</td>\n",
       "      <td>0.158850</td>\n",
       "    </tr>\n",
       "    <tr>\n",
       "      <th>Combined</th>\n",
       "      <td>116.0</td>\n",
       "      <td>0.096155</td>\n",
       "    </tr>\n",
       "  </tbody>\n",
       "</table>\n",
       "</div>"
      ],
      "text/plain": [
       "               n_components  first_pc_variance\n",
       "RDKit 2D               45.0           0.218625\n",
       "ECFP                  125.0           0.042531\n",
       "MACCS                  53.0           0.115012\n",
       "MQN                    18.0           0.263674\n",
       "Mordred 2D/3D          68.0           0.158850\n",
       "Combined              116.0           0.096155"
      ]
     },
     "execution_count": 1,
     "metadata": {},
     "output_type": "execute_result"
    }
   ],
   "source": [
    "import pandas as pd\n",
    "pca_summary = pd.read_csv('../figures/pca_results/summary_pca_results.csv', index_col=0)\n",
    "pca_summary"
   ]
  },
  {
   "cell_type": "markdown",
   "metadata": {},
   "source": [
    "## Supervised feature selection"
   ]
  },
  {
   "cell_type": "markdown",
   "metadata": {},
   "source": [
    "\n",
    "Three supervised feature selection methods—LASSO regression, Random Forest, and Boruta—were applied to each preprocessed descriptor set. Each method implements a restriction to half the number of samples for the maximum number of selected features {cite}`guyon2003introduction`. The selection methods process the descriptors differently. LASSO bases selection on regression coefficients {cite}`tibshirani1996regression`. Random Forest employs feature importance scores from mean decrease in impurity {cite}`breiman2001random`. The Boruta algorithm uses a statistical testing approach with randomized features {cite}`kursa2010feature`.\n"
   ]
  },
  {
   "cell_type": "markdown",
   "metadata": {},
   "source": [
    "![RDKit2D Features](../figures/supervised/feature_importance_descriptors_2D.png)\n",
    "*Figure 1: Top 10 features selected by each method for RDKit 2D descriptors*\n",
    "\n",
    "![ECFP Features](../figures/supervised/feature_importance_descriptors_ECFP.png)\n",
    "*Figure 2: Top 10 features selected by each method for ECFP fingerprints*\n",
    "\n",
    "![MACCS Features](../figures/supervised/feature_importance_descriptors_MACCS.png)\n",
    "*Figure 3: Top 10 features selected by each method for MACCS keys*\n",
    "\n",
    "![MQN Features](../figures/supervised/feature_importance_descriptors_MQN.png)\n",
    "*Figure 4: Top 10 features selected by each method for MQN descriptors*\n",
    "\n",
    "![Mordred Features](../figures/supervised/feature_importance_two_and_three_d.png)\n",
    "*Figure 5: Top 10 features selected by each method for Mordred 2D/3D descriptors*\n",
    "\n",
    "![Combined Features](../figures/supervised/feature_importance_all_descriptors.png)\n",
    "*Figure 6: Top 10 features selected by each method for Combined descriptors*\n",
    "\n",
    "![Selection Results](../figures/supervised/feature_selection_comparison.png)\n",
    "*Figure 7: Comparison of feature selection results across methods and descriptor types*"
   ]
  },
  {
   "cell_type": "markdown",
   "metadata": {},
   "source": [
    "The number of selected descriptors varies by method and descriptor type, as shown in the results summary:\n"
   ]
  },
  {
   "cell_type": "code",
   "execution_count": 2,
   "metadata": {
    "tags": [
     "remove-input"
    ]
   },
   "outputs": [
    {
     "data": {
      "text/html": [
       "<div>\n",
       "<style scoped>\n",
       "    .dataframe tbody tr th:only-of-type {\n",
       "        vertical-align: middle;\n",
       "    }\n",
       "\n",
       "    .dataframe tbody tr th {\n",
       "        vertical-align: top;\n",
       "    }\n",
       "\n",
       "    .dataframe thead th {\n",
       "        text-align: right;\n",
       "    }\n",
       "</style>\n",
       "<table border=\"1\" class=\"dataframe\">\n",
       "  <thead>\n",
       "    <tr style=\"text-align: right;\">\n",
       "      <th></th>\n",
       "      <th>Dataset</th>\n",
       "      <th>Initial</th>\n",
       "      <th>LASSO_selected</th>\n",
       "      <th>RF_selected</th>\n",
       "      <th>Boruta_selected</th>\n",
       "    </tr>\n",
       "  </thead>\n",
       "  <tbody>\n",
       "    <tr>\n",
       "      <th>0</th>\n",
       "      <td>RDKit 2D</td>\n",
       "      <td>139</td>\n",
       "      <td>35</td>\n",
       "      <td>35</td>\n",
       "      <td>11</td>\n",
       "    </tr>\n",
       "    <tr>\n",
       "      <th>1</th>\n",
       "      <td>ECFP</td>\n",
       "      <td>893</td>\n",
       "      <td>74</td>\n",
       "      <td>91</td>\n",
       "      <td>17</td>\n",
       "    </tr>\n",
       "    <tr>\n",
       "      <th>2</th>\n",
       "      <td>MACCS</td>\n",
       "      <td>128</td>\n",
       "      <td>32</td>\n",
       "      <td>32</td>\n",
       "      <td>15</td>\n",
       "    </tr>\n",
       "    <tr>\n",
       "      <th>3</th>\n",
       "      <td>MQN</td>\n",
       "      <td>33</td>\n",
       "      <td>8</td>\n",
       "      <td>8</td>\n",
       "      <td>6</td>\n",
       "    </tr>\n",
       "    <tr>\n",
       "      <th>4</th>\n",
       "      <td>Mordred 2D/3D</td>\n",
       "      <td>731</td>\n",
       "      <td>64</td>\n",
       "      <td>91</td>\n",
       "      <td>34</td>\n",
       "    </tr>\n",
       "    <tr>\n",
       "      <th>5</th>\n",
       "      <td>Combined</td>\n",
       "      <td>1833</td>\n",
       "      <td>91</td>\n",
       "      <td>91</td>\n",
       "      <td>35</td>\n",
       "    </tr>\n",
       "  </tbody>\n",
       "</table>\n",
       "</div>"
      ],
      "text/plain": [
       "         Dataset  Initial  LASSO_selected  RF_selected  Boruta_selected\n",
       "0       RDKit 2D      139              35           35               11\n",
       "1           ECFP      893              74           91               17\n",
       "2          MACCS      128              32           32               15\n",
       "3            MQN       33               8            8                6\n",
       "4  Mordred 2D/3D      731              64           91               34\n",
       "5       Combined     1833              91           91               35"
      ]
     },
     "execution_count": 2,
     "metadata": {},
     "output_type": "execute_result"
    }
   ],
   "source": [
    "#hide_input\n",
    "# Load and display the results DataFrame\n",
    "results_df = pd.read_csv('../data/feature_selection/supervised/selection_results.csv')\n",
    "results_df"
   ]
  },
  {
   "cell_type": "markdown",
   "metadata": {},
   "source": []
  }
 ],
 "metadata": {
  "kernelspec": {
   "display_name": "my-rdkit-env",
   "language": "python",
   "name": "python3"
  },
  "language_info": {
   "codemirror_mode": {
    "name": "ipython",
    "version": 3
   },
   "file_extension": ".py",
   "mimetype": "text/x-python",
   "name": "python",
   "nbconvert_exporter": "python",
   "pygments_lexer": "ipython3",
   "version": "3.9.12"
  },
  "toc": {
   "base_numbering": 1,
   "nav_menu": {},
   "number_sections": true,
   "sideBar": true,
   "skip_h1_title": false,
   "title_cell": "Table of Contents",
   "title_sidebar": "Contents",
   "toc_cell": false,
   "toc_position": {},
   "toc_section_display": true,
   "toc_window_display": false
  }
 },
 "nbformat": 4,
 "nbformat_minor": 2
}