{
 "cells": [
  {
   "cell_type": "markdown",
   "metadata": {},
   "source": [
    "# Supervised Feature Selection Results\n",
    "\n",
    "## Model comparaison\n",
    "\n",
    "The supervised feature selection methods demonstrate varying performance patterns across descriptor types and regression algorithms. The combined descriptor set with LASSO selection and Ridge regression achieved the highest performance, with R² scores of 0.941 for cross-validation and 0.882 for the test set.\n",
    "\n",
    "![Supervised Selection Performance](../figures/supervised/best_performances.png)\n",
    "*Figure 2: Model performance comparison across descriptor types and feature selection methods*"
   ]
  },
  {
   "cell_type": "markdown",
   "metadata": {},
   "source": [
    "The combined descriptor set with LASSO selection achieved the highest retention time prediction accuracy (test R² = 0.882) using Ridge regression. This indicates that the integration of multiple descriptor types captures the molecular properties influencing chromatographic retention. ECFP fingerprints with LASSO selection (R² = 0.666) and Mordred 2D/3D descriptors (R² = 0.662) provided intermediate prediction accuracy, suggesting these descriptors encode relevant molecular features affecting retention behavior.\n",
    "The 2D RDKit descriptors with LASSO selection (R² = 0.643) offered comparable performance, while maintaining a lower computational cost. MACCS keys and MQN descriptors showed limited prediction capabilities (R² < 0.464), indicating these representations may not capture sufficient structural information related to chromatographic retention mechanisms.\n",
    "The LASSO selection method emerged as the most effective approach, consistently producing higher R² scores compared to Random Forest and Boruta selections. This suggests that the linear feature selection strategy of LASSO aligns well with the underlying relationship between molecular descriptors and retention times "
   ]
  },
  {
   "cell_type": "markdown",
   "metadata": {},
   "source": [
    "## 3. Ridge Model Optimization\n",
    "\n",
    "The Ridge regression model underwent hyperparameter optimization through randomized search with 50 parameter combinations across 5-fold cross-validation. The optimal parameters (alpha = 0.0107, solver = 'saga', fit_intercept = True) yielded a cross-validation R² of 0.954 and a test set R² of 0.925, with RMSE of 0.830 minutes.\n",
    "\n",
    "![Prediction Performance](../figures/results/predictions_vs_actual.png)\n",
    "*Figure 3: Comparison of predicted versus actual retention times*\n",
    "\n",
    "The scatter plot of predicted versus actual retention times demonstrates the model's prediction accuracy across the retention time range. The points align along the diagonal line, indicating consistent performance across different retention times.\n",
    "\n",
    "![Residuals Distribution](../figures/results/residuals_distribution.png)\n",
    "*Figure 4: Distribution of prediction residuals*\n",
    "\n",
    "The residuals follow an approximately normal distribution centered near zero, suggesting unbiased predictions. The residual range of ±2 minutes indicates the model's prediction uncertainty.\n",
    "\n",
    "![Residuals vs Predictions](../figures/results/residuals_vs_predictions.png)\n",
    "*Figure 5: Residual analysis across prediction range*\n",
    "\n",
    "The residuals versus predictions plot shows no systematic patterns, indicating consistent model performance across the retention time range.\n",
    "\n",
    "![Important Features](../figures/results/top_10_features.png)\n",
    "*Figure 6: Ten most influential molecular descriptors*\n",
    "\n",
    "The molecular descriptor analysis reveals key physicochemical properties governing chromatographic retention. MolLogP, the most influential descriptor, represents molecular lipophilicity, which determines compound interaction with the stationary phase in reversed-phase chromatography {cite}`snyder2012introduction`. The PEOE_VSA descriptors capture molecular surface properties affecting solute-stationary phase interactions. NHOHCount, quantifying hydrogen bond donors, reflects potential interactions with mobile phase components {cite}`neue2005theory`.\n",
    "\n",
    "Additional structural descriptors such as MACCS keys and topological features (GATS1dv, FpDensityMorgan1) encode molecular shape and connectivity patterns that influence retention behavior through steric effects and spatial arrangements {cite}`wang2016prediction`."
   ]
  }
 ],
 "metadata": {
  "language_info": {
   "codemirror_mode": {
    "name": "ipython",
    "version": 3
   },
   "file_extension": ".py",
   "mimetype": "text/x-python",
   "name": "python",
   "nbconvert_exporter": "python",
   "pygments_lexer": "ipython3",
   "version": "3.10.8"
  }
 },
 "nbformat": 4,
 "nbformat_minor": 2
}