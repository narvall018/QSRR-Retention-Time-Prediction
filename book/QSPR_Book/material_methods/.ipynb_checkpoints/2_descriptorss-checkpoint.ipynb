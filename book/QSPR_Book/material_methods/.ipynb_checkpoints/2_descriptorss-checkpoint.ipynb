{
 "cells": [
  {
   "cell_type": "markdown",
   "id": "f7484932",
   "metadata": {},
   "source": [
    "# Molecular descriptors computation"
   ]
  },
  {
   "cell_type": "code",
   "execution_count": 17,
   "id": "3fd95b06",
   "metadata": {
    "tags": [
     "remove-input"
    ]
   },
   "outputs": [],
   "source": [
    "import pandas as pd\n",
    "from rdkit import Chem\n",
    "from rdkit.Chem import Descriptors\n",
    "import rdkit\n",
    "from rdkit import Chem\n",
    "from rdkit.Chem import AllChem\n",
    "\n",
    "from rdkit.Chem import Draw\n",
    "from rdkit.Chem.Draw import IPythonConsole\n",
    "import pandas as pd\n",
    "from rdkit.Chem import PandasTools\n",
    "import pandas as pd\n",
    "from rdkit import Chem\n",
    "from rdkit.Chem import Descriptors\n",
    "from rdkit import rdBase\n",
    "import pandas as pd\n",
    "import numpy as np\n",
    "from rdkit import Chem\n",
    "from rdkit.Chem import Draw\n",
    "from rdkit.Chem import PandasTools\n",
    "from rdkit.Chem.Draw import IPythonConsole\n",
    "from rdkit.Chem import AllChem\n",
    "from rdkit.Chem import rdFingerprintGenerator\n",
    "from rdkit import DataStructs\n",
    "from rdkit.Chem import MACCSkeys\n",
    "from rdkit.Chem.Fingerprints import FingerprintMols\n",
    "from descriptastorus.descriptors.DescriptorGenerator import MakeGenerator\n",
    "# Importing Libraries\n",
    "import pandas as pd\n",
    "import warnings\n",
    "\n",
    "from rdkit import Chem\n",
    "from rdkit.Chem import Draw\n",
    "from rdkit.Chem import Descriptors\n",
    "from rdkit.Chem import AllChem, PandasTools\n",
    "from rdkit.ML.Descriptors import MoleculeDescriptors\n",
    "\n",
    "warnings.filterwarnings(\"ignore\")\n",
    "     "
   ]
  },
  {
   "cell_type": "markdown",
   "id": "11b00266",
   "metadata": {},
   "source": [
    "## 1. Molecular descriptors computation\n",
    "\n",
    "\n",
    "\n",
    "The descriptor calculation process starts with SMILES canonicalization to ensure consistent molecular representation. The RDKit package computes 2D descriptors, ECFP6 fingerprints, and MACCS keys {cite}`landrum2016rdkit`. The 2D descriptors quantify topological and physicochemical properties, while ECFP6 fingerprints encode circular substructural patterns within a radius of 6 bonds {cite}`rogers2010extended`. MACCS keys represent the presence or absence of 166 predefined structural patterns {cite}`durant2002reoptimization`. Mordred calculates both 2D descriptors from molecular topology and 3D descriptors from molecular geometries {cite}`moriwaki2018mordred`. The 2D descriptors include connectivity indices and surface areas, while 3D descriptors capture spatial properties. The Molecular Quantum Numbers (MQN) characterize molecules through atom counts, bond types, and topological features {cite}`nguyen2012molecular`. Each calculation method produces a numerical matrix where rows represent molecules and columns correspond to specific molecular features."
   ]
  },
  {
   "cell_type": "code",
   "execution_count": 18,
   "id": "12762c47",
   "metadata": {
    "tags": [
     "remove-input"
    ]
   },
   "outputs": [],
   "source": [
    "# Chemin relatif vers les données\n",
    "data_path = \"../data/raw_data/level_one_unifi_with_smiles.csv\"\n",
    "df = pd.read_csv(data_path)"
   ]
  },
  {
   "cell_type": "code",
   "execution_count": 19,
   "id": "0529699d",
   "metadata": {
    "tags": [
     "remove-input"
    ]
   },
   "outputs": [],
   "source": [
    "#hide_input\n",
    "# Nettoyage et canonicalisation des SMILES\n",
    "df = df[df['smiles'].notna() & (df['smiles'] != '')].reset_index(drop=True)\n",
    "\n",
    "def canonicalize_smiles(smi):\n",
    "    try:\n",
    "        mol = Chem.MolFromSmiles(smi)\n",
    "        if mol is not None:\n",
    "            return Chem.MolToSmiles(mol)\n",
    "        else:\n",
    "            return None\n",
    "    except:\n",
    "        return None\n",
    "\n",
    "# Appliquer la canonicalisation à la colonne SMILES\n",
    "df['smiles'] = df['smiles'].apply(canonicalize_smiles)\n",
    "\n",
    "# Création de la colonne mol (version corrigée)\n",
    "df['mol'] = df['smiles'].apply(lambda x: Chem.AddHs(Chem.MolFromSmiles(x)))\n",
    "\n",
    "# Calcul des moyennes de RT par molécule\n",
    "first_instances = df.groupby('Molecule_Name').first().reset_index()\n",
    "mean_rt = df.groupby('Molecule_Name')['Observed RT (min)'].mean()\n",
    "first_instances['Observed RT (min)'] = first_instances['Molecule_Name'].map(mean_rt)\n",
    "df = first_instances"
   ]
  },
  {
   "cell_type": "code",
   "execution_count": 20,
   "id": "68eadbcd",
   "metadata": {
    "scrolled": false,
    "tags": [
     "remove-input"
    ]
   },
   "outputs": [],
   "source": [
    "# remove-input\n",
    "# remove-output\n",
    "\n",
    "\n",
    "# 2D DESCRI\n",
    "\n",
    "Desc_list_func = MoleculeDescriptors.MolecularDescriptorCalculator(x[0] for x in Descriptors._descList)\n",
    "names = Desc_list_func.GetDescriptorNames()\n",
    "\n",
    "Des_func = MoleculeDescriptors.MolecularDescriptorCalculator(x[0] for x in Descriptors._descList)\n",
    "\n",
    "\n",
    "des = []\n",
    "\n",
    "for mol in df['mol']:\n",
    "  des.append(Des_func.CalcDescriptors(mol))\n",
    "  \n",
    "\n",
    "id_target = df[['Molecule_Name', 'Observed RT (min)']].copy()\n",
    "id_target = id_target.rename(columns={'Observed RT (min)': 'RT'})\n",
    "\n",
    "rdkit_df = pd.concat([id_target, pd.DataFrame(des, columns=(x[0] for x in Descriptors._descList))], axis=1)\n"
   ]
  },
  {
   "cell_type": "code",
   "execution_count": 22,
   "id": "2547e109",
   "metadata": {
    "tags": [
     "remove-input",
     "remove-output"
    ]
   },
   "outputs": [
    {
     "name": "stdout",
     "output_type": "stream",
     "text": [
      "Calcul des ECFP6...\n"
     ]
    },
    {
     "name": "stderr",
     "output_type": "stream",
     "text": [
      "100%|██████████| 185/185 [00:00<00:00, 1157.56it/s]\n"
     ]
    },
    {
     "name": "stdout",
     "output_type": "stream",
     "text": [
      "\n",
      "Nombre de bits calculés : 1024\n",
      "Nombre de molécules traitées : 185\n"
     ]
    }
   ],
   "source": [
    "from rdkit import Chem\n",
    "from rdkit.Chem import AllChem\n",
    "import numpy as np\n",
    "from tqdm import tqdm  # Pour voir la progression\n",
    "\n",
    "def compute_ecfp(df, radius=3, nBits=1024, column='mol'):\n",
    "    \"\"\"\n",
    "    Calcule les ECFP pour chaque molécule du DataFrame\n",
    "    \n",
    "    Parameters:\n",
    "    -----------\n",
    "    df : pandas DataFrame\n",
    "        DataFrame contenant les molécules\n",
    "    radius : int (default=3)\n",
    "        Rayon pour ECFP (3 pour ECFP6)\n",
    "    nBits : int (default=1024)\n",
    "        Nombre de bits pour le fingerprint\n",
    "    column : str (default='mol')\n",
    "        Nom de la colonne contenant les molécules RDKit\n",
    "        \n",
    "    Returns:\n",
    "    --------\n",
    "    pandas DataFrame\n",
    "        DataFrame contenant les bits ECFP\n",
    "    \"\"\"\n",
    "    # Calculer les fingerprints\n",
    "    print(\"Calcul des ECFP6...\")\n",
    "    fps = []\n",
    "    for mol in tqdm(df[column]):\n",
    "        fp = AllChem.GetMorganFingerprintAsBitVect(mol, radius=radius, nBits=nBits)\n",
    "        fps.append(np.array(fp))\n",
    "    \n",
    "    # Convertir en DataFrame\n",
    "    fp_bits = pd.DataFrame(fps, columns=[f'Bit_{i}' for i in range(nBits)])\n",
    "    \n",
    "    print(f\"\\nNombre de bits calculés : {nBits}\")\n",
    "    print(f\"Nombre de molécules traitées : {len(fps)}\")\n",
    "    \n",
    "    return fp_bits\n",
    "\n",
    "# Calculer les ECFP6\n",
    "ecfp_df = compute_ecfp(df)\n",
    "\n",
    "# Créer le DataFrame final avec les identifiants et les ECFP6\n",
    "ecfp_final_df = pd.concat([\n",
    "    id_target[['Molecule_Name', 'RT']],  # Garder les colonnes d'identification\n",
    "    ecfp_df\n",
    "], axis=1)"
   ]
  },
  {
   "cell_type": "code",
   "execution_count": 25,
   "id": "2b9fa4cd",
   "metadata": {
    "tags": [
     "remove-input",
     "remove-ouptput"
    ]
   },
   "outputs": [
    {
     "name": "stdout",
     "output_type": "stream",
     "text": [
      "Calcul des clés MACCS...\n"
     ]
    },
    {
     "name": "stderr",
     "output_type": "stream",
     "text": [
      "100%|██████████| 185/185 [00:00<00:00, 771.75it/s]"
     ]
    },
    {
     "name": "stdout",
     "output_type": "stream",
     "text": [
      "\n",
      "Nombre de bits MACCS : 167\n",
      "Nombre de molécules traitées : 185\n"
     ]
    },
    {
     "name": "stderr",
     "output_type": "stream",
     "text": [
      "\n"
     ]
    }
   ],
   "source": [
    "from rdkit.Chem import MACCSkeys\n",
    "from tqdm import tqdm\n",
    "\n",
    "def compute_maccs(df, column='mol'):\n",
    "    \"\"\"\n",
    "    Calcule les clés MACCS pour chaque molécule du DataFrame\n",
    "    \n",
    "    Parameters:\n",
    "    -----------\n",
    "    df : pandas DataFrame\n",
    "        DataFrame contenant les molécules\n",
    "    column : str (default='mol')\n",
    "        Nom de la colonne contenant les molécules RDKit\n",
    "        \n",
    "    Returns:\n",
    "    --------\n",
    "    pandas DataFrame\n",
    "        DataFrame contenant les clés MACCS (167 bits)\n",
    "    \"\"\"\n",
    "    print(\"Calcul des clés MACCS...\")\n",
    "    maccs_list = []\n",
    "    for mol in tqdm(df[column]):\n",
    "        maccs = MACCSkeys.GenMACCSKeys(mol)\n",
    "        maccs_list.append(np.array(maccs))\n",
    "    \n",
    "    # Convertir en DataFrame avec noms appropriés\n",
    "    maccs_df = pd.DataFrame(maccs_list, columns=[f'MACCS_{i}' for i in range(167)])\n",
    "    \n",
    "    print(f\"\\nNombre de bits MACCS : 167\")\n",
    "    print(f\"Nombre de molécules traitées : {len(maccs_list)}\")\n",
    "    \n",
    "    return maccs_df\n",
    "\n",
    "# Calculer les clés MACCS\n",
    "maccs_df = compute_maccs(df)\n",
    "\n",
    "# Créer le DataFrame final avec les identifiants et les clés MACCS\n",
    "maccs_final_df = pd.concat([\n",
    "    id_target[['Molecule_Name', 'RT']],  # Garder les colonnes d'identification\n",
    "    maccs_df\n",
    "], axis=1)"
   ]
  },
  {
   "cell_type": "code",
   "execution_count": 28,
   "id": "a18ac41f",
   "metadata": {
    "tags": [
     "remove-input",
     "remove-output"
    ]
   },
   "outputs": [
    {
     "name": "stdout",
     "output_type": "stream",
     "text": [
      "Calcul des Molecular Quantum Numbers...\n"
     ]
    },
    {
     "name": "stderr",
     "output_type": "stream",
     "text": [
      "100%|██████████| 185/185 [00:00<00:00, 6223.95it/s]"
     ]
    },
    {
     "name": "stdout",
     "output_type": "stream",
     "text": [
      "\n",
      "Nombre de descripteurs MQN : 42\n",
      "Nombre de molécules traitées : 185\n"
     ]
    },
    {
     "name": "stderr",
     "output_type": "stream",
     "text": [
      "\n"
     ]
    }
   ],
   "source": [
    "from rdkit.Chem import rdMolDescriptors\n",
    "from tqdm import tqdm\n",
    "\n",
    "def compute_mqn(df, column='mol'):\n",
    "    \"\"\"\n",
    "    Calcule les Molecular Quantum Numbers pour chaque molécule du DataFrame\n",
    "    \"\"\"\n",
    "    print(\"Calcul des Molecular Quantum Numbers...\")\n",
    "    mqn_list = []\n",
    "    for mol in tqdm(df[column]):\n",
    "        mqn = rdMolDescriptors.MQNs_(mol)\n",
    "        mqn_list.append(mqn)\n",
    "    \n",
    "    # Convertir en DataFrame\n",
    "    mqn_df = pd.DataFrame(mqn_list, columns=[f'MQN_{i+1}' for i in range(42)])\n",
    "    \n",
    "    print(f\"\\nNombre de descripteurs MQN : 42\")\n",
    "    print(f\"Nombre de molécules traitées : {len(mqn_list)}\")\n",
    "    \n",
    "    return mqn_df\n",
    "\n",
    "# Calculer les MQN\n",
    "mqn_df = compute_mqn(df)\n",
    "\n",
    "# Créer le DataFrame final\n",
    "mqn_final_df = pd.concat([\n",
    "    id_target[['Molecule_Name', 'RT']],\n",
    "    mqn_df\n",
    "], axis=1)"
   ]
  },
  {
   "cell_type": "code",
   "execution_count": 30,
   "id": "2b5f548d",
   "metadata": {
    "tags": [
     "remove-input",
     "remove-output"
    ]
   },
   "outputs": [
    {
     "name": "stdout",
     "output_type": "stream",
     "text": [
      "Génération des coordonnées 3D et calcul des descripteurs...\n"
     ]
    },
    {
     "name": "stderr",
     "output_type": "stream",
     "text": [
      "100%|██████████| 185/185 [01:22<00:00,  2.24it/s]\n"
     ]
    },
    {
     "name": "stdout",
     "output_type": "stream",
     "text": [
      "\n",
      "Statistiques des descripteurs:\n",
      "Nombre total de descripteurs: 1826\n",
      "Nombre de molécules traitées: 185\n",
      "\n",
      "Pourcentage de valeurs manquantes par descripteur:\n",
      "count    1828.00000\n",
      "mean        9.81223\n",
      "std        27.60161\n",
      "min         0.00000\n",
      "25%         0.00000\n",
      "50%         0.00000\n",
      "75%         0.00000\n",
      "max       100.00000\n",
      "dtype: float64\n"
     ]
    }
   ],
   "source": [
    "import rdkit\n",
    "from rdkit import Chem\n",
    "from rdkit.Chem import Draw, PandasTools, AllChem\n",
    "import mordred\n",
    "from mordred import Calculator, descriptors\n",
    "import pandas as pd\n",
    "from tqdm import tqdm\n",
    "\n",
    "def generate_3d_coordinates(mol):\n",
    "    \"\"\"\n",
    "    Génère les coordonnées 3D pour une molécule\n",
    "    \"\"\"\n",
    "    try:\n",
    "        mol = Chem.AddHs(mol)  # Ajouter des hydrogènes explicites\n",
    "        AllChem.EmbedMolecule(mol, randomSeed=42)  # Générer coordonnées 3D\n",
    "        AllChem.MMFFOptimizeMolecule(mol)  # Optimiser la géométrie\n",
    "        return mol\n",
    "    except:\n",
    "        return None\n",
    "\n",
    "def calculate_mordred_descriptors(df, mol_column='mol'):\n",
    "    \"\"\"\n",
    "    Calcule tous les descripteurs Mordred avec coordonnées 3D\n",
    "    \"\"\"\n",
    "    # Initialiser le calculateur Mordred\n",
    "    calc = Calculator(descriptors, ignore_3D=False)\n",
    "    \n",
    "    print(\"Génération des coordonnées 3D et calcul des descripteurs...\")\n",
    "    descriptors_list = []\n",
    "    \n",
    "    for mol in tqdm(df[mol_column]):\n",
    "        try:\n",
    "            # Générer coordonnées 3D\n",
    "            mol_3d = generate_3d_coordinates(mol)\n",
    "            if mol_3d is not None:\n",
    "                # Calculer descripteurs\n",
    "                result = calc(mol_3d)\n",
    "                descriptors_list.append({str(key): value for key, value in result.items()})\n",
    "            else:\n",
    "                # Si la génération 3D échoue\n",
    "                empty_desc = {str(key): None for key in calc.descriptors}\n",
    "                descriptors_list.append(empty_desc)\n",
    "        except:\n",
    "            # En cas d'erreur\n",
    "            empty_desc = {str(key): None for key in calc.descriptors}\n",
    "            descriptors_list.append(empty_desc)\n",
    "    \n",
    "    # Créer DataFrame avec les descripteurs\n",
    "    mordred_df = pd.DataFrame(descriptors_list)\n",
    "    \n",
    "    # Convertir en numérique quand possible\n",
    "    mordred_df = mordred_df.apply(pd.to_numeric, errors='coerce')\n",
    "    \n",
    "    return mordred_df\n",
    "\n",
    "# Calculer les descripteurs\n",
    "mordred_df = calculate_mordred_descriptors(df)\n",
    "\n",
    "# Créer le DataFrame final\n",
    "final_df = pd.concat([\n",
    "    id_target[['Molecule_Name', 'RT']],\n",
    "    mordred_df\n",
    "], axis=1)\n",
    "\n",
    "# Afficher les statistiques\n",
    "print(\"\\nStatistiques des descripteurs:\")\n",
    "print(f\"Nombre total de descripteurs: {mordred_df.shape[1]}\")\n",
    "print(f\"Nombre de molécules traitées: {len(final_df)}\")\n",
    "print(\"\\nPourcentage de valeurs manquantes par descripteur:\")\n",
    "print((final_df.isna().sum() / len(final_df) * 100).describe())\n",
    "\n",
    "# Optionnel: Sauvegarder les résultats\n",
    "# final_df.to_csv('mordred_descriptors.csv', index=False)"
   ]
  },
  {
   "cell_type": "code",
   "execution_count": 31,
   "id": "e3cdb80a",
   "metadata": {},
   "outputs": [],
   "source": [
    "final_df = final_df.fillna(final_df.median())\n",
    "nan_ratio = final_df.isna().sum() / len(final_df)\n",
    "columns_to_drop = nan_ratio[nan_ratio > 0.5].index\n",
    "\n",
    "# Supprimer ces colonnes\n",
    "final_df = final_df.drop(columns=columns_to_drop)\n",
    "\n",
    "# Remplacement des valeurs infinies par NaN\n",
    "final_df = final_df.replace([np.inf, -np.inf], np.nan)\n",
    "\n",
    "# Remplacement des NaN par la médiane pour chaque colonne\n",
    "final_df = final_df.fillna(final_df.median())\n",
    "\n",
    "\n",
    "twod_and_3D_final_df = final_df"
   ]
  },
  {
   "cell_type": "code",
   "execution_count": 36,
   "id": "36d2f3d1",
   "metadata": {},
   "outputs": [],
   "source": [
    "# Fusionner les DataFrames sur 'Molecule_Name' et 'RT'\n",
    "all_df = rdkit_df.merge(ecfp_final_df, on=['Molecule_Name', 'RT'], how='outer') \\\n",
    "                 .merge(maccs_final_df, on=['Molecule_Name', 'RT'], how='outer') \\\n",
    "                 .merge(mqn_final_df, on=['Molecule_Name', 'RT'], how='outer') \\\n",
    "                 .merge(twod_and_3D_final_df, on=['Molecule_Name', 'RT'], how='outer')\n"
   ]
  },
  {
   "cell_type": "markdown",
   "id": "8f10b500",
   "metadata": {},
   "source": [
    "# 2. Data Processing and Descriptor Analysis\n",
    "The initial descriptor matrices contained constant features and missing values. Constant features, which exhibit zero variance across all molecules, were removed from each descriptor set. Missing values were replaced with the median value of the corresponding descriptor. The data underwent standardization using the StandardScaler method, centering the features around zero with unit variance.\n",
    "Descriptor Dimensions\n",
    "After preprocessing, the final descriptor matrices present varying dimensions:\n",
    "\n",
    "- MQN resulted in 42 descriptors \n",
    "- MACCS keys produced 167 features \n",
    "- RDKit 2D generated 208 descriptors \n",
    "- ECFP6 fingerprints yielded 1024 bits \n",
    "- Mordred 2D/3D provided 1726 descriptors \n",
    "- The combined set contains 3167 descriptors "
   ]
  },
  {
   "cell_type": "code",
   "execution_count": 39,
   "id": "ca8b9493",
   "metadata": {},
   "outputs": [
    {
     "data": {
      "image/png": "[encoded data removed]",
      "text/plain": [
       "<Figure size 1000x600 with 1 Axes>"
      ]
     },
     "metadata": {},
     "output_type": "display_data"
    }
   ],
   "source": [
    "#hide_input\n",
    "import matplotlib.pyplot as plt\n",
    "import seaborn as sns\n",
    "\n",
    "# Calculer le nombre de descripteurs pour chaque type\n",
    "n_descriptors = {\n",
    "   'RDKit 2D': rdkit_df.shape[1] - 2,  # -2 pour Molecule_Name et RT\n",
    "   'ECFP6': ecfp_final_df.shape[1] - 2,\n",
    "   'MACCS': maccs_final_df.shape[1] - 2,\n",
    "   'MQN': mqn_final_df.shape[1] - 2,\n",
    "   'Mordred 2D/3D': twod_and_3D_final_df.shape[1] - 2,\n",
    "   'Combined': all_df.shape[1] - 2\n",
    "}\n",
    "\n",
    "# Créer le DataFrame pour le plot\n",
    "plot_df = pd.DataFrame.from_dict(n_descriptors, orient='index', columns=['Count'])\n",
    "plot_df = plot_df.sort_values('Count')\n",
    "\n",
    "# Créer le barplot horizontal\n",
    "plt.figure(figsize=(10, 6))\n",
    "ax = sns.barplot(x='Count', y=plot_df.index, data=plot_df, \n",
    "               color='steelblue', orient='h')\n",
    "\n",
    "# Personnalisation\n",
    "plt.title('Number of Descriptors by Type')\n",
    "plt.xlabel('Number of Descriptors')\n",
    "plt.ylabel('Descriptor Type')\n",
    "\n",
    "# Ajouter les valeurs sur les barres\n",
    "for i, v in enumerate(plot_df['Count']):\n",
    "   ax.text(v, i, f' {v}', va='center')\n",
    "\n",
    "plt.tight_layout()\n",
    "plt.show()"
   ]
  },
  {
   "cell_type": "markdown",
   "id": "09cab214",
   "metadata": {},
   "source": [
    "The horizontal bar plot displays the distribution of descriptors across methods. The combined set incorporates all individual descriptors, leading to the highest dimensionality. ECFP6 and Mordred descriptors contribute the majority of features to the final dataset."
   ]
  }
 ],
 "metadata": {
  "kernelspec": {
   "display_name": "Python 3 (ipykernel)",
   "language": "python",
   "name": "python3"
  },
  "language_info": {
   "codemirror_mode": {
    "name": "ipython",
    "version": 3
   },
   "file_extension": ".py",
   "mimetype": "text/x-python",
   "name": "python",
   "nbconvert_exporter": "python",
   "pygments_lexer": "ipython3",
   "version": "3.10.8"
  },
  "toc": {
   "base_numbering": 1,
   "nav_menu": {},
   "number_sections": true,
   "sideBar": true,
   "skip_h1_title": false,
   "title_cell": "Table of Contents",
   "title_sidebar": "Contents",
   "toc_cell": false,
   "toc_position": {},
   "toc_section_display": true,
   "toc_window_display": false
  }
 },
 "nbformat": 4,
 "nbformat_minor": 5
}
