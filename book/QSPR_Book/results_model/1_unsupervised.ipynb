{
 "cells": [
  {
   "cell_type": "markdown",
   "metadata": {},
   "source": [
    "# Unsupervised Feature Selection Results\n",
    "\n",
    "The PCA-based feature selection performance varies across descriptor types and machine learning algorithms. The 2D RDKit descriptors achieved R² scores of 0.542 for cross-validation and 0.361 for test set using Gradient Boosting regression. Mordred 2D/3D descriptors, analyzed with Random Forest, produced R² values of 0.408 (CV) and 0.301 (test).\n",
    "\n",
    "MACCS keys with Extra Trees regression resulted in R² scores of 0.256 (CV) and 0.106 (test). The combined descriptor set showed a discrepancy between CV (0.402) and test (0.011) performance. MQN descriptors with Random Forest exhibited similar divergence: 0.447 CV R² versus -0.014 test R². ECFP descriptors with Gradient Boosting displayed the lowest performance with 0.151 CV R² and -0.039 test R².\n",
    "The cross-validation scores consistently exceed test set performance, indicating overfitting across all descriptor types and models\n",
    "\n",
    "![PCA Performance](../figures/pca/best_performances.png)\n",
    "\n",
    "\n",
    "\n",
    "*Figure 1: Model performance comparison across descriptor types after PCA*"
   ]
  }
 ],
 "metadata": {
  "language_info": {
   "name": "python"
  }
 },
 "nbformat": 4,
 "nbformat_minor": 2
}
