{
 "cells": [
  {
   "cell_type": "code",
   "execution_count": 2,
   "metadata": {
    "tags": [
     "remove-input"
    ]
   },
   "outputs": [],
   "source": [
    "import pandas as pd\n",
    "import os\n",
    "from IPython.display import display\n",
    "import pandas as pd\n",
    "from rdkit import Chem\n",
    "from rdkit.Chem import Descriptors\n",
    "import rdkit\n",
    "from rdkit import Chem\n",
    "from rdkit.Chem import AllChem\n",
    "\n",
    "from rdkit.Chem import Draw\n",
    "from rdkit.Chem.Draw import IPythonConsole\n",
    "import pandas as pd\n",
    "from rdkit.Chem import PandasTools\n",
    "import pandas as pd\n",
    "from rdkit import Chem\n",
    "from rdkit.Chem import Descriptors\n",
    "from rdkit import rdBase\n",
    "import pandas as pd\n",
    "import numpy as np\n",
    "from rdkit import Chem\n",
    "from rdkit.Chem import Draw\n",
    "from rdkit.Chem import PandasTools\n",
    "from rdkit.Chem.Draw import IPythonConsole\n",
    "from rdkit.Chem import AllChem\n",
    "from rdkit.Chem import rdFingerprintGenerator\n",
    "from rdkit import DataStructs\n",
    "from rdkit.Chem import MACCSkeys\n",
    "from rdkit.Chem.Fingerprints import FingerprintMols\n",
    "from descriptastorus.descriptors.DescriptorGenerator import MakeGenerator\n",
    "# Importing Libraries\n",
    "import pandas as pd\n",
    "import warnings\n",
    "\n",
    "from rdkit import Chem\n",
    "from rdkit.Chem import Draw\n",
    "from rdkit.Chem import Descriptors\n",
    "from rdkit.Chem import AllChem, PandasTools\n",
    "from rdkit.ML.Descriptors import MoleculeDescriptors\n",
    "\n",
    "warnings.filterwarnings(\"ignore\")\n",
    "     \n",
    "\n",
    "\n",
    "# Chemin relatif vers les données\n",
    "data_path = \"../data/raw_data/level_one_unifi_with_smiles.csv\"\n",
    "df = pd.read_csv(data_path)"
   ]
  },
  {
   "cell_type": "markdown",
   "metadata": {},
   "source": [
    "# Dataset description"
   ]
  },
  {
   "cell_type": "markdown",
   "metadata": {
    "vscode": {
     "languageId": "bat"
    }
   },
   "source": [
    "## Experimental data overview\n",
    "\n",
    "The dataset consists of 185 reference compounds analyzed using a VION-IMS-QTOF mass spectrometer. The retention times were obtained through experimental measurements of pharmaceutical compounds, drugs, transformation products, biocides, and pesticides. These compounds represent diverse chemical structures found in environmental analysis. The dataset encompasses a range of molecules used in environmental monitoring, including parent compounds and their transformation products."
   ]
  },
  {
   "cell_type": "code",
   "execution_count": 3,
   "metadata": {
    "tags": [
     "remove-input"
    ]
   },
   "outputs": [
    {
     "data": {
      "text/html": [
       "<div>\n",
       "<style scoped>\n",
       "    .dataframe tbody tr th:only-of-type {\n",
       "        vertical-align: middle;\n",
       "    }\n",
       "\n",
       "    .dataframe tbody tr th {\n",
       "        vertical-align: top;\n",
       "    }\n",
       "\n",
       "    .dataframe thead th {\n",
       "        text-align: right;\n",
       "    }\n",
       "</style>\n",
       "<table border=\"1\" class=\"dataframe\">\n",
       "  <thead>\n",
       "    <tr style=\"text-align: right;\">\n",
       "      <th></th>\n",
       "      <th>Molecule_Name</th>\n",
       "      <th>Observed RT (min)</th>\n",
       "      <th>smiles</th>\n",
       "    </tr>\n",
       "  </thead>\n",
       "  <tbody>\n",
       "    <tr>\n",
       "      <th>0</th>\n",
       "      <td>Metolachlor-ESA</td>\n",
       "      <td>7.8660</td>\n",
       "      <td>CCc1cccc(C)c1N(C(=O)CS(=O)(=O)O)[C@H](C)COC</td>\n",
       "    </tr>\n",
       "    <tr>\n",
       "      <th>1</th>\n",
       "      <td>Spinosad A</td>\n",
       "      <td>13.7730</td>\n",
       "      <td>CCC1CCCC(OC2CCC(N(C)C)C(C)O2)[C@@H](C)C(=O)C2=...</td>\n",
       "    </tr>\n",
       "    <tr>\n",
       "      <th>2</th>\n",
       "      <td>4-Hydroxyphenylacetamide</td>\n",
       "      <td>2.3010</td>\n",
       "      <td>N=C(O)Cc1ccc(O)cc1</td>\n",
       "    </tr>\n",
       "    <tr>\n",
       "      <th>3</th>\n",
       "      <td>Atrazine-d5</td>\n",
       "      <td>9.5900</td>\n",
       "      <td>CCN=c1nc(Cl)[nH]c(=NC(C)C)[nH]1</td>\n",
       "    </tr>\n",
       "    <tr>\n",
       "      <th>4</th>\n",
       "      <td>Sulfamethoxazole</td>\n",
       "      <td>5.9780</td>\n",
       "      <td>Cc1cc(NS(=O)(=O)c2ccc(N)cc2)no1</td>\n",
       "    </tr>\n",
       "    <tr>\n",
       "      <th>5</th>\n",
       "      <td>MIT</td>\n",
       "      <td>1.4850</td>\n",
       "      <td>Cn1sccc1=O</td>\n",
       "    </tr>\n",
       "    <tr>\n",
       "      <th>6</th>\n",
       "      <td>Atrazine-desisopropyl</td>\n",
       "      <td>4.3750</td>\n",
       "      <td>CCN=c1[nH]c(Cl)nc(=N)[nH]1</td>\n",
       "    </tr>\n",
       "    <tr>\n",
       "      <th>7</th>\n",
       "      <td>Monuron</td>\n",
       "      <td>7.9955</td>\n",
       "      <td>CN(C)C(=O)Nc1ccc(Cl)cc1</td>\n",
       "    </tr>\n",
       "    <tr>\n",
       "      <th>8</th>\n",
       "      <td>Ranitidine S-Oxide</td>\n",
       "      <td>1.1550</td>\n",
       "      <td>CN/C(=C\\[N+](=O)[O-])NCCS(=O)Cc1ccc(CN(C)C)o1</td>\n",
       "    </tr>\n",
       "    <tr>\n",
       "      <th>9</th>\n",
       "      <td>DCOIT</td>\n",
       "      <td>17.2150</td>\n",
       "      <td>CCCCCCCCn1sc(Cl)c(Cl)c1=O</td>\n",
       "    </tr>\n",
       "  </tbody>\n",
       "</table>\n",
       "</div>"
      ],
      "text/plain": [
       "              Molecule_Name  Observed RT (min)  \\\n",
       "0           Metolachlor-ESA             7.8660   \n",
       "1                Spinosad A            13.7730   \n",
       "2  4-Hydroxyphenylacetamide             2.3010   \n",
       "3               Atrazine-d5             9.5900   \n",
       "4          Sulfamethoxazole             5.9780   \n",
       "5                       MIT             1.4850   \n",
       "6     Atrazine-desisopropyl             4.3750   \n",
       "7                   Monuron             7.9955   \n",
       "8        Ranitidine S-Oxide             1.1550   \n",
       "9                     DCOIT            17.2150   \n",
       "\n",
       "                                              smiles  \n",
       "0        CCc1cccc(C)c1N(C(=O)CS(=O)(=O)O)[C@H](C)COC  \n",
       "1  CCC1CCCC(OC2CCC(N(C)C)C(C)O2)[C@@H](C)C(=O)C2=...  \n",
       "2                                 N=C(O)Cc1ccc(O)cc1  \n",
       "3                    CCN=c1nc(Cl)[nH]c(=NC(C)C)[nH]1  \n",
       "4                    Cc1cc(NS(=O)(=O)c2ccc(N)cc2)no1  \n",
       "5                                         Cn1sccc1=O  \n",
       "6                         CCN=c1[nH]c(Cl)nc(=N)[nH]1  \n",
       "7                            CN(C)C(=O)Nc1ccc(Cl)cc1  \n",
       "8      CN/C(=C\\[N+](=O)[O-])NCCS(=O)Cc1ccc(CN(C)C)o1  \n",
       "9                          CCCCCCCCn1sc(Cl)c(Cl)c1=O  "
      ]
     },
     "execution_count": 3,
     "metadata": {},
     "output_type": "execute_result"
    }
   ],
   "source": [
    "df = df[df['smiles'].notna() & (df['smiles'] != '')].reset_index(drop=True)\n",
    "\n",
    "def canonicalize_smiles(smi):\n",
    "    try:\n",
    "        mol = Chem.MolFromSmiles(smi)\n",
    "        if mol is not None:\n",
    "            return Chem.MolToSmiles(mol)\n",
    "        else:\n",
    "            return None\n",
    "    except:\n",
    "        return None\n",
    "\n",
    "# Appliquer la canonicalisation à la colonne SMILES\n",
    "df['smiles'] = df['smiles'].apply(canonicalize_smiles)\n",
    "\n",
    "mol_list = []\n",
    "\n",
    "for smile in df['smiles']:\n",
    "  mol = Chem.MolFromSmiles(smile)\n",
    "\n",
    "  mol = Chem.AddHs(mol)\n",
    "  mol_list.append(mol)\n",
    "  \n",
    "  \n",
    "\n",
    "df = pd.concat([df, pd.DataFrame(mol_list, columns = (['mol']))], axis=1)\n",
    "# Identifions d'abord la première occurrence de chaque molécule\n",
    "first_instances = df.groupby('Molecule_Name').first().reset_index()\n",
    "\n",
    "# Calculons la moyenne des RT pour chaque molécule\n",
    "mean_rt = df.groupby('Molecule_Name')['Observed RT (min)'].mean()\n",
    "\n",
    "# Remplaçons les RT dans le DataFrame des premières instances par les moyennes\n",
    "first_instances['Observed RT (min)'] = first_instances['Molecule_Name'].map(mean_rt)\n",
    "\n",
    "# Renommer le DataFrame final en df\n",
    "df = first_instances\n",
    "\n",
    "\n",
    "\n",
    "df = df.sample(frac=1).reset_index(drop=True)\n",
    "\n",
    "df = df.drop(columns=['Adduct', 'Expected m/z', 'Observed m/z', 'Observed CCS (Å²)', 'InChI', 'mol', 'mol'])\n",
    "\n",
    "df.head(10)\n"
   ]
  },
  {
   "cell_type": "code",
   "execution_count": 4,
   "metadata": {
    "tags": [
     "remove-input"
    ]
   },
   "outputs": [
    {
     "data": {
      "text/plain": [
       "(185, 3)"
      ]
     },
     "execution_count": 4,
     "metadata": {},
     "output_type": "execute_result"
    }
   ],
   "source": [
    "df.shape"
   ]
  },
  {
   "cell_type": "markdown",
   "metadata": {
    "vscode": {
     "languageId": "powershell"
    }
   },
   "source": [
    "## Chromatographic conditions\n",
    "\n",
    "\n",
    "The chromatographic separation was performed using reversed-phase liquid chromatography (RPLC) on a Waters Acquity BEH C18 column (100 × 2.1 mm, 1.7 µm). The column temperature was maintained at 40°C throughout the analysis. The mobile phase consisted of ultrapure water with 0.1% formic acid (FA) as eluent A and acetonitrile with 0.1% formic acid as eluent B. The flow rate was set at 0.45 mL/min with an injection volume of 10 µL. Samples were stored at 10°C in the autosampler prior to injection."
   ]
  },
  {
   "cell_type": "code",
   "execution_count": 5,
   "metadata": {
    "tags": [
     "remove-input"
    ]
   },
   "outputs": [
    {
     "data": {
      "text/html": [
       "<div>\n",
       "<style scoped>\n",
       "    .dataframe tbody tr th:only-of-type {\n",
       "        vertical-align: middle;\n",
       "    }\n",
       "\n",
       "    .dataframe tbody tr th {\n",
       "        vertical-align: top;\n",
       "    }\n",
       "\n",
       "    .dataframe thead th {\n",
       "        text-align: right;\n",
       "    }\n",
       "</style>\n",
       "<table border=\"1\" class=\"dataframe\">\n",
       "  <thead>\n",
       "    <tr style=\"text-align: right;\">\n",
       "      <th></th>\n",
       "      <th>Parameter</th>\n",
       "      <th>Value</th>\n",
       "    </tr>\n",
       "  </thead>\n",
       "  <tbody>\n",
       "    <tr>\n",
       "      <th>0</th>\n",
       "      <td>Column</td>\n",
       "      <td>Waters Acquity BEH C18 (100 × 2.1 mm, 1.7 µm)</td>\n",
       "    </tr>\n",
       "    <tr>\n",
       "      <th>1</th>\n",
       "      <td>Flow rate</td>\n",
       "      <td>0.45 mL/min</td>\n",
       "    </tr>\n",
       "    <tr>\n",
       "      <th>2</th>\n",
       "      <td>Injection volume</td>\n",
       "      <td>10 µL</td>\n",
       "    </tr>\n",
       "    <tr>\n",
       "      <th>3</th>\n",
       "      <td>Mobile phases</td>\n",
       "      <td>A: EUP + FA (0.1%) B: ACN + FA (0.1%)</td>\n",
       "    </tr>\n",
       "    <tr>\n",
       "      <th>4</th>\n",
       "      <td>Temperature</td>\n",
       "      <td>40°C</td>\n",
       "    </tr>\n",
       "  </tbody>\n",
       "</table>\n",
       "</div>"
      ],
      "text/plain": [
       "          Parameter                                          Value\n",
       "0            Column  Waters Acquity BEH C18 (100 × 2.1 mm, 1.7 µm)\n",
       "1         Flow rate                                    0.45 mL/min\n",
       "2  Injection volume                                          10 µL\n",
       "3     Mobile phases          A: EUP + FA (0.1%) B: ACN + FA (0.1%)\n",
       "4       Temperature                                           40°C"
      ]
     },
     "execution_count": 5,
     "metadata": {},
     "output_type": "execute_result"
    }
   ],
   "source": [
    "#hide_input\n",
    "import pandas as pd\n",
    "\n",
    "# Tableau des conditions chromatographiques\n",
    "chromatographic_conditions = pd.DataFrame({\n",
    "   'Parameter': ['Column', 'Flow rate', 'Injection volume', 'Mobile phases', 'Temperature'],\n",
    "   'Value': ['Waters Acquity BEH C18 (100 × 2.1 mm, 1.7 µm)', \n",
    "             '0.45 mL/min', \n",
    "             '10 µL', \n",
    "             'A: EUP + FA (0.1%) B: ACN + FA (0.1%)',\n",
    "             '40°C']\n",
    "})\n",
    "chromatographic_conditions\n"
   ]
  },
  {
   "cell_type": "code",
   "execution_count": 6,
   "metadata": {
    "tags": [
     "remove-input"
    ]
   },
   "outputs": [
    {
     "data": {
      "text/html": [
       "<div>\n",
       "<style scoped>\n",
       "    .dataframe tbody tr th:only-of-type {\n",
       "        vertical-align: middle;\n",
       "    }\n",
       "\n",
       "    .dataframe tbody tr th {\n",
       "        vertical-align: top;\n",
       "    }\n",
       "\n",
       "    .dataframe thead th {\n",
       "        text-align: right;\n",
       "    }\n",
       "</style>\n",
       "<table border=\"1\" class=\"dataframe\">\n",
       "  <thead>\n",
       "    <tr style=\"text-align: right;\">\n",
       "      <th></th>\n",
       "      <th>Time (min)</th>\n",
       "      <th>A (%)</th>\n",
       "      <th>B (%)</th>\n",
       "    </tr>\n",
       "  </thead>\n",
       "  <tbody>\n",
       "    <tr>\n",
       "      <th>0</th>\n",
       "      <td>0.0</td>\n",
       "      <td>98</td>\n",
       "      <td>2</td>\n",
       "    </tr>\n",
       "    <tr>\n",
       "      <th>1</th>\n",
       "      <td>1.0</td>\n",
       "      <td>98</td>\n",
       "      <td>2</td>\n",
       "    </tr>\n",
       "    <tr>\n",
       "      <th>2</th>\n",
       "      <td>21.5</td>\n",
       "      <td>98</td>\n",
       "      <td>2</td>\n",
       "    </tr>\n",
       "    <tr>\n",
       "      <th>3</th>\n",
       "      <td>25.0</td>\n",
       "      <td>2</td>\n",
       "      <td>98</td>\n",
       "    </tr>\n",
       "    <tr>\n",
       "      <th>4</th>\n",
       "      <td>30.0</td>\n",
       "      <td>2</td>\n",
       "      <td>98</td>\n",
       "    </tr>\n",
       "    <tr>\n",
       "      <th>5</th>\n",
       "      <td>34.0</td>\n",
       "      <td>98</td>\n",
       "      <td>2</td>\n",
       "    </tr>\n",
       "  </tbody>\n",
       "</table>\n",
       "</div>"
      ],
      "text/plain": [
       "   Time (min)  A (%)  B (%)\n",
       "0         0.0     98      2\n",
       "1         1.0     98      2\n",
       "2        21.5     98      2\n",
       "3        25.0      2     98\n",
       "4        30.0      2     98\n",
       "5        34.0     98      2"
      ]
     },
     "execution_count": 6,
     "metadata": {},
     "output_type": "execute_result"
    }
   ],
   "source": [
    "\n",
    "# Tableau du gradient\n",
    "gradient_conditions = pd.DataFrame({\n",
    "   'Time (min)': [0.00, 1.00, 21.50, 25.00, 30.00, 34.00],\n",
    "   'A (%)': [98, 98, 98, 2, 2, 98],\n",
    "   'B (%)': [2, 2, 2, 98, 98, 2]\n",
    "})\n",
    "\n",
    "gradient_conditions"
   ]
  },
  {
   "cell_type": "markdown",
   "metadata": {},
   "source": [
    "## Retention time analysis\n",
    "\n",
    "The training dataset contains retention times measured under reversed-phase liquid chromatography conditions. The retention times span from 0.555 to 23.842 minutes, with a median value of 8.318 minutes. The distribution exhibits a standard deviation of 4.729 minutes and a skewness of 0.490."
   ]
  },
  {
   "cell_type": "code",
   "execution_count": 7,
   "metadata": {
    "tags": [
     "remove-input"
    ]
   },
   "outputs": [
    {
     "data": {
      "image/png": "[encoded data removed]",
      "text/plain": [
       "<Figure size 1000x600 with 1 Axes>"
      ]
     },
     "metadata": {},
     "output_type": "display_data"
    }
   ],
   "source": [
    "import matplotlib.pyplot as plt\n",
    "import seaborn as sns\n",
    "\n",
    "retention_time = df['Observed RT (min)']\n",
    "\n",
    "\n",
    "import matplotlib.pyplot as plt\n",
    "import seaborn as sns\n",
    "plt.figure(figsize=(10, 6))\n",
    "sns.boxplot(x=retention_time, color='steelblue')\n",
    "plt.title('Training set retention time distribution')\n",
    "plt.xlabel('Retention time (min)')\n",
    "plt.tick_params(axis='y', which='both', left=False, labelleft=False)\n",
    "plt.tight_layout()\n",
    "plt.show()\n"
   ]
  },
  {
   "cell_type": "markdown",
   "metadata": {},
   "source": [
    "The boxplot reveals the distribution of retention times in the training set. The first quartile occurs at 5 minutes, while the third quartile extends to 10 minutes. Two distinct retention time regions emerge: early-eluting compounds before 5 minutes and late-eluting compounds after 15 minutes. One compound exhibits a retention time beyond 20 minutes, corresponding to the most hydrophobic molecule in the dataset."
   ]
  }
 ],
 "metadata": {
  "kernelspec": {
   "display_name": "my-rdkit-env",
   "language": "python",
   "name": "python3"
  },
  "language_info": {
   "codemirror_mode": {
    "name": "ipython",
    "version": 3
   },
   "file_extension": ".py",
   "mimetype": "text/x-python",
   "name": "python",
   "nbconvert_exporter": "python",
   "pygments_lexer": "ipython3",
   "version": "3.10.8"
  },
  "toc": {
   "base_numbering": 1,
   "nav_menu": {},
   "number_sections": true,
   "sideBar": true,
   "skip_h1_title": false,
   "title_cell": "Table of Contents",
   "title_sidebar": "Contents",
   "toc_cell": false,
   "toc_position": {},
   "toc_section_display": true,
   "toc_window_display": false
  }
 },
 "nbformat": 4,
 "nbformat_minor": 2
}
