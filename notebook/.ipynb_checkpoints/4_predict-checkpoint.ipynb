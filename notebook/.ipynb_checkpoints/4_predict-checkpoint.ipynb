{
 "cells": [
  {
   "cell_type": "code",
   "execution_count": 1,
   "id": "e8720468",
   "metadata": {},
   "outputs": [],
   "source": [
    "import pandas as pd\n",
    "import numpy as np\n",
    "from rdkit import Chem\n",
    "from rdkit.Chem import AllChem, MACCSkeys, rdMolDescriptors, Descriptors\n",
    "from rdkit.ML.Descriptors import MoleculeDescriptors\n",
    "from tqdm import tqdm\n",
    "import joblib\n",
    "import os\n"
   ]
  },
  {
   "cell_type": "code",
   "execution_count": 2,
   "id": "61ccf633",
   "metadata": {},
   "outputs": [],
   "source": [
    "\n",
    "class RTPredictor:\n",
    "    def __init__(self):\n",
    "        \"\"\"Initialisation du prédicteur\"\"\"\n",
    "        # Chargement du modèle et des features\n",
    "        self.model = joblib.load('models/ridge_all_descriptors_LASSO.joblib')\n",
    "        self.selected_features = [feat.replace('_x', '') for feat in joblib.load('models/features_all_descriptors_LASSO.joblib')]\n",
    "        \n",
    "        # Catégoriser les descripteurs nécessaires\n",
    "        self.needed_bits = [int(f.split('_')[1]) for f in self.selected_features if f.startswith('Bit_')]\n",
    "        self.needed_maccs = [int(f.split('_')[1]) for f in self.selected_features if f.startswith('MACCS_')]\n",
    "        self.needed_mqn = [int(f.split('_')[1]) for f in self.selected_features if f.startswith('MQN_')]\n",
    "        self.needed_rdkit = [f for f in self.selected_features if not any(f.startswith(p) for p in ['Bit_', 'MACCS_', 'MQN_'])]\n",
    "        \n",
    "        print(\"Nombre de features sélectionnées:\", len(self.selected_features))\n",
    "        print(\"Répartition des descripteurs:\")\n",
    "        print(f\"- ECFP: {len(self.needed_bits)}\")\n",
    "        print(f\"- MACCS: {len(self.needed_maccs)}\")\n",
    "        print(f\"- MQN: {len(self.needed_mqn)}\")\n",
    "        print(f\"- RDKit: {len(self.needed_rdkit)}\")\n",
    "\n",
    "    def canonicalize_smiles(self, smiles):\n",
    "        \"\"\"Convertit un SMILES en sa forme canonique\"\"\"\n",
    "        try:\n",
    "            mol = Chem.MolFromSmiles(smiles)\n",
    "            if mol is not None:\n",
    "                return Chem.MolToSmiles(mol, canonical=True)\n",
    "            else:\n",
    "                return None\n",
    "        except:\n",
    "            return None\n",
    "\n",
    "    def prepare_molecules(self, smiles_list):\n",
    "        \"\"\"Préparation des molécules à partir des SMILES\"\"\"\n",
    "        mols = []\n",
    "        valid_smiles = []\n",
    "        invalid_smiles = []\n",
    "        \n",
    "        print(\"\\nConversion des SMILES en molécules...\")\n",
    "        for i, smiles in enumerate(tqdm(smiles_list)):\n",
    "            canon_smiles = self.canonicalize_smiles(smiles)\n",
    "            if canon_smiles is not None:\n",
    "                mol = Chem.MolFromSmiles(canon_smiles)\n",
    "                if mol is not None:\n",
    "                    mols.append(mol)\n",
    "                    valid_smiles.append(canon_smiles)\n",
    "                else:\n",
    "                    invalid_smiles.append((i, smiles))\n",
    "            else:\n",
    "                invalid_smiles.append((i, smiles))\n",
    "        \n",
    "        if invalid_smiles:\n",
    "            print(\"\\nSMILES invalides détectés:\")\n",
    "            for idx, smiles in invalid_smiles:\n",
    "                print(f\"Index {idx}: {smiles}\")\n",
    "        \n",
    "        return pd.DataFrame({\n",
    "            'original_smiles': smiles_list,\n",
    "            'canonical_smiles': valid_smiles,\n",
    "            'mol': mols\n",
    "        })\n",
    "\n",
    "    def compute_ecfp(self, df, column='mol'):\n",
    "        \"\"\"Calcule uniquement les bits ECFP nécessaires\"\"\"\n",
    "        if not self.needed_bits:\n",
    "            return pd.DataFrame()\n",
    "            \n",
    "        print(\"Calcul des ECFP6 sélectionnés...\")\n",
    "        fps = []\n",
    "        for mol in tqdm(df[column]):\n",
    "            fp = AllChem.GetMorganFingerprintAsBitVect(mol, radius=3, nBits=1024)\n",
    "            fp_bits = list(fp.GetOnBits())\n",
    "            fps.append([1 if i in fp_bits else 0 for i in self.needed_bits])\n",
    "        \n",
    "        return pd.DataFrame(fps, columns=[f'Bit_{i}' for i in self.needed_bits])\n",
    "\n",
    "    def compute_maccs(self, df, column='mol'):\n",
    "        \"\"\"Calcule uniquement les clés MACCS nécessaires\"\"\"\n",
    "        if not self.needed_maccs:\n",
    "            return pd.DataFrame()\n",
    "            \n",
    "        print(\"Calcul des MACCS sélectionnés...\")\n",
    "        maccs_list = []\n",
    "        for mol in tqdm(df[column]):\n",
    "            maccs = MACCSkeys.GenMACCSKeys(mol)\n",
    "            maccs_list.append([maccs[i] for i in self.needed_maccs])\n",
    "        \n",
    "        return pd.DataFrame(maccs_list, columns=[f'MACCS_{i}' for i in self.needed_maccs])\n",
    "\n",
    "    def compute_mqn(self, df, column='mol'):\n",
    "        \"\"\"Calcule uniquement les MQN nécessaires\"\"\"\n",
    "        if not self.needed_mqn:\n",
    "            return pd.DataFrame()\n",
    "            \n",
    "        print(\"Calcul des MQN sélectionnés...\")\n",
    "        mqn_list = []\n",
    "        for mol in tqdm(df[column]):\n",
    "            mqn = rdMolDescriptors.MQNs_(mol)\n",
    "            mqn_list.append([mqn[i-1] for i in self.needed_mqn])\n",
    "        \n",
    "        return pd.DataFrame(mqn_list, columns=[f'MQN_{i}' for i in self.needed_mqn])\n",
    "\n",
    "    def compute_rdkit_descriptors(self, df, column='mol'):\n",
    "        \"\"\"Calcule uniquement les descripteurs RDKit nécessaires\"\"\"\n",
    "        if not self.needed_rdkit:\n",
    "            return pd.DataFrame()\n",
    "            \n",
    "        print(\"Calcul des descripteurs RDKit sélectionnés...\")\n",
    "        calc = MoleculeDescriptors.MolecularDescriptorCalculator(self.needed_rdkit)\n",
    "        \n",
    "        desc_list = []\n",
    "        for mol in tqdm(df[column]):\n",
    "            desc = calc.CalcDescriptors(mol)\n",
    "            desc_list.append(desc)\n",
    "        \n",
    "        return pd.DataFrame(desc_list, columns=self.needed_rdkit)\n",
    "\n",
    "    def compute_descriptors(self, smiles_list):\n",
    "        \"\"\"Calcule uniquement les descripteurs nécessaires\"\"\"\n",
    "        # Préparation des molécules\n",
    "        mol_df = self.prepare_molecules(smiles_list)\n",
    "        \n",
    "        # Calcul des descripteurs par type\n",
    "        desc_parts = []\n",
    "        \n",
    "        if self.needed_bits:\n",
    "            desc_parts.append(self.compute_ecfp(mol_df))\n",
    "        if self.needed_maccs:\n",
    "            desc_parts.append(self.compute_maccs(mol_df))\n",
    "        if self.needed_mqn:\n",
    "            desc_parts.append(self.compute_mqn(mol_df))\n",
    "        if self.needed_rdkit:\n",
    "            desc_parts.append(self.compute_rdkit_descriptors(mol_df))\n",
    "        \n",
    "        # Combinaison des descripteurs\n",
    "        descriptors_df = pd.concat(desc_parts, axis=1)\n",
    "        \n",
    "        # S'assurer que les colonnes sont dans le bon ordre\n",
    "        descriptors_df = descriptors_df[self.selected_features]\n",
    "        \n",
    "        print(f\"\\nNombre de descripteurs calculés: {descriptors_df.shape[1]}\")\n",
    "        return descriptors_df, mol_df['canonical_smiles']\n",
    "\n",
    "    def normalize_features(self, X):\n",
    "        \"\"\"Normalisation des features\"\"\"\n",
    "        X_normalized = X.copy()\n",
    "        for col in X_normalized.columns:\n",
    "            if X_normalized[col].std() > 0:\n",
    "                mean = X_normalized[col].mean()\n",
    "                std = X_normalized[col].std()\n",
    "                X_normalized[col] = (X_normalized[col] - mean) / std\n",
    "            else:\n",
    "                X_normalized[col] = 0\n",
    "        return X_normalized\n",
    "\n",
    "    def predict(self, smiles_list):\n",
    "        \"\"\"Pipeline complète de prédiction\"\"\"\n",
    "        # Calcul des descripteurs\n",
    "        descriptors_df, canon_smiles = self.compute_descriptors(smiles_list)\n",
    "\n",
    "        # Normalisation\n",
    "        descriptors_normalized = self.normalize_features(descriptors_df)\n",
    "\n",
    "        # Renommer les colonnes pour correspondre exactement au modèle\n",
    "        original_features = joblib.load('models/features_all_descriptors_LASSO.joblib')\n",
    "        descriptors_normalized.columns = original_features\n",
    "\n",
    "        # Prédiction\n",
    "        predictions = self.model.predict(descriptors_normalized)\n",
    "\n",
    "        # Création du DataFrame final\n",
    "        results_df = pd.DataFrame({\n",
    "            'Original_SMILES': smiles_list,\n",
    "            'Canonical_SMILES': canon_smiles,\n",
    "            'Predicted_RT': predictions\n",
    "        })\n",
    "\n",
    "        return results_df"
   ]
  },
  {
   "cell_type": "code",
   "execution_count": 3,
   "id": "0ecb23a1",
   "metadata": {},
   "outputs": [
    {
     "name": "stdout",
     "output_type": "stream",
     "text": [
      "Nombre de features sélectionnées: 91\n",
      "Répartition des descripteurs:\n",
      "- ECFP: 47\n",
      "- MACCS: 6\n",
      "- MQN: 1\n",
      "- RDKit: 37\n",
      "\n",
      "Conversion des SMILES en molécules...\n"
     ]
    },
    {
     "name": "stderr",
     "output_type": "stream",
     "text": [
      "100%|███████████████████████████████████████████| 3/3 [00:00<00:00, 3113.81it/s]\n"
     ]
    },
    {
     "name": "stdout",
     "output_type": "stream",
     "text": [
      "Calcul des ECFP6 sélectionnés...\n"
     ]
    },
    {
     "name": "stderr",
     "output_type": "stream",
     "text": [
      "100%|███████████████████████████████████████████| 3/3 [00:00<00:00, 1917.54it/s]\n"
     ]
    },
    {
     "name": "stdout",
     "output_type": "stream",
     "text": [
      "Calcul des MACCS sélectionnés...\n"
     ]
    },
    {
     "name": "stderr",
     "output_type": "stream",
     "text": [
      "100%|███████████████████████████████████████████| 3/3 [00:00<00:00, 1041.55it/s]\n"
     ]
    },
    {
     "name": "stdout",
     "output_type": "stream",
     "text": [
      "Calcul des MQN sélectionnés...\n"
     ]
    },
    {
     "name": "stderr",
     "output_type": "stream",
     "text": [
      "100%|███████████████████████████████████████████| 3/3 [00:00<00:00, 5497.12it/s]\n"
     ]
    },
    {
     "name": "stdout",
     "output_type": "stream",
     "text": [
      "Calcul des descripteurs RDKit sélectionnés...\n"
     ]
    },
    {
     "name": "stderr",
     "output_type": "stream",
     "text": [
      "100%|████████████████████████████████████████████| 3/3 [00:00<00:00, 336.69it/s]"
     ]
    },
    {
     "name": "stdout",
     "output_type": "stream",
     "text": [
      "\n",
      "Nombre de descripteurs calculés: 91\n",
      "\n",
      "Résultats des prédictions:\n",
      "                                     Original_SMILES  \\\n",
      "0                           CC(=O)OC1=CC=CC=C1C(=O)O   \n",
      "1  CC1=CC=C(C=C1)C2=CC(=NN2C3=CC=C(C=C3)S(=O)(=O)...   \n",
      "2                       CN1C=NC2=C1C(=O)N(C(=O)N2C)C   \n",
      "\n",
      "                                    Canonical_SMILES  Predicted_RT  \n",
      "0                              CC(=O)Oc1ccccc1C(=O)O      9.258370  \n",
      "1  Cc1ccc(-c2cc(C(F)(F)F)nn2-c2ccc(S(N)(=O)=O)cc2...     10.328735  \n",
      "2                         Cn1c(=O)c2c(ncn2C)n(C)c1=O      5.083979  \n"
     ]
    },
    {
     "name": "stderr",
     "output_type": "stream",
     "text": [
      "\n"
     ]
    }
   ],
   "source": [
    "\n",
    "\n",
    "smiles_test = [\n",
    "    \"CC(=O)OC1=CC=CC=C1C(=O)O\",  # Aspirine\n",
    "    \"CC1=CC=C(C=C1)C2=CC(=NN2C3=CC=C(C=C3)S(=O)(=O)N)C(F)(F)F\",  # Celecoxib\n",
    "    \"CN1C=NC2=C1C(=O)N(C(=O)N2C)C\"  # Caféine\n",
    "]\n",
    "\n",
    "# Initialisation et prédiction\n",
    "predictor = RTPredictor()\n",
    "results = predictor.predict(smiles_test)\n",
    "\n",
    "# Affichage des résultats\n",
    "print(\"\\nRésultats des prédictions:\")\n",
    "print(results)\n",
    "\n"
   ]
  },
  {
   "cell_type": "code",
   "execution_count": 7,
   "id": "f2a377d0",
   "metadata": {},
   "outputs": [
    {
     "data": {
      "text/html": [
       "<div>\n",
       "<style scoped>\n",
       "    .dataframe tbody tr th:only-of-type {\n",
       "        vertical-align: middle;\n",
       "    }\n",
       "\n",
       "    .dataframe tbody tr th {\n",
       "        vertical-align: top;\n",
       "    }\n",
       "\n",
       "    .dataframe thead th {\n",
       "        text-align: right;\n",
       "    }\n",
       "</style>\n",
       "<table border=\"1\" class=\"dataframe\">\n",
       "  <thead>\n",
       "    <tr style=\"text-align: right;\">\n",
       "      <th></th>\n",
       "      <th>Original_SMILES</th>\n",
       "      <th>Canonical_SMILES</th>\n",
       "      <th>Predicted_RT</th>\n",
       "    </tr>\n",
       "  </thead>\n",
       "  <tbody>\n",
       "    <tr>\n",
       "      <th>0</th>\n",
       "      <td>CC(=O)OC1=CC=CC=C1C(=O)O</td>\n",
       "      <td>CC(=O)Oc1ccccc1C(=O)O</td>\n",
       "      <td>9.258370</td>\n",
       "    </tr>\n",
       "    <tr>\n",
       "      <th>1</th>\n",
       "      <td>CC1=CC=C(C=C1)C2=CC(=NN2C3=CC=C(C=C3)S(=O)(=O)...</td>\n",
       "      <td>Cc1ccc(-c2cc(C(F)(F)F)nn2-c2ccc(S(N)(=O)=O)cc2...</td>\n",
       "      <td>10.328735</td>\n",
       "    </tr>\n",
       "    <tr>\n",
       "      <th>2</th>\n",
       "      <td>CN1C=NC2=C1C(=O)N(C(=O)N2C)C</td>\n",
       "      <td>Cn1c(=O)c2c(ncn2C)n(C)c1=O</td>\n",
       "      <td>5.083979</td>\n",
       "    </tr>\n",
       "  </tbody>\n",
       "</table>\n",
       "</div>"
      ],
      "text/plain": [
       "                                     Original_SMILES  \\\n",
       "0                           CC(=O)OC1=CC=CC=C1C(=O)O   \n",
       "1  CC1=CC=C(C=C1)C2=CC(=NN2C3=CC=C(C=C3)S(=O)(=O)...   \n",
       "2                       CN1C=NC2=C1C(=O)N(C(=O)N2C)C   \n",
       "\n",
       "                                    Canonical_SMILES  Predicted_RT  \n",
       "0                              CC(=O)Oc1ccccc1C(=O)O      9.258370  \n",
       "1  Cc1ccc(-c2cc(C(F)(F)F)nn2-c2ccc(S(N)(=O)=O)cc2...     10.328735  \n",
       "2                         Cn1c(=O)c2c(ncn2C)n(C)c1=O      5.083979  "
      ]
     },
     "execution_count": 7,
     "metadata": {},
     "output_type": "execute_result"
    }
   ],
   "source": [
    "results"
   ]
  }
 ],
 "metadata": {
  "kernelspec": {
   "display_name": "Python 3 (ipykernel)",
   "language": "python",
   "name": "python3"
  },
  "language_info": {
   "codemirror_mode": {
    "name": "ipython",
    "version": 3
   },
   "file_extension": ".py",
   "mimetype": "text/x-python",
   "name": "python",
   "nbconvert_exporter": "python",
   "pygments_lexer": "ipython3",
   "version": "3.10.8"
  },
  "toc": {
   "base_numbering": 1,
   "nav_menu": {},
   "number_sections": true,
   "sideBar": true,
   "skip_h1_title": false,
   "title_cell": "Table of Contents",
   "title_sidebar": "Contents",
   "toc_cell": false,
   "toc_position": {},
   "toc_section_display": true,
   "toc_window_display": false
  }
 },
 "nbformat": 4,
 "nbformat_minor": 5
}
